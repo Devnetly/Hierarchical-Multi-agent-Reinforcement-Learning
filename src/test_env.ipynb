{
  "cells": [
    {
      "cell_type": "markdown",
      "metadata": {
        "id": "Kzj7kxOSS4R1"
      },
      "source": [
        "# ML-Agents PettingZoo Wrapper"
      ]
    },
    {
      "cell_type": "markdown",
      "metadata": {
        "id": "Ybe4P6IbS4R-"
      },
      "source": [
        "### Start Environment with PettingZoo Wrapper"
      ]
    },
    {
      "cell_type": "code",
      "execution_count": 15,
      "metadata": {
        "id": "YSf-WhxbqtLw"
      },
      "outputs": [
        {
          "name": "stdout",
          "output_type": "stream",
          "text": [
            "[UnityMemory] Configuration Parameters - Can be set up in boot.config\n",
            "    \"memorysetup-bucket-allocator-granularity=16\"\n",
            "    \"memorysetup-bucket-allocator-bucket-count=8\"\n",
            "    \"memorysetup-bucket-allocator-block-size=4194304\"\n",
            "    \"memorysetup-bucket-allocator-block-count=1\"\n",
            "    \"memorysetup-main-allocator-block-size=16777216\"\n",
            "    \"memorysetup-thread-allocator-block-size=16777216\"\n",
            "    \"memorysetup-gfx-main-allocator-block-size=16777216\"\n",
            "    \"memorysetup-gfx-thread-allocator-block-size=16777216\"\n",
            "    \"memorysetup-cache-allocator-block-size=4194304\"\n",
            "    \"memorysetup-typetree-allocator-block-size=2097152\"\n",
            "    \"memorysetup-profiler-bucket-allocator-granularity=16\"\n",
            "    \"memorysetup-profiler-bucket-allocator-bucket-count=8\"\n",
            "    \"memorysetup-profiler-bucket-allocator-block-size=4194304\"\n",
            "    \"memorysetup-profiler-bucket-allocator-block-count=1\"\n",
            "    \"memorysetup-profiler-allocator-block-size=16777216\"\n",
            "    \"memorysetup-profiler-editor-allocator-block-size=1048576\"\n",
            "    \"memorysetup-temp-allocator-size-main=4194304\"\n",
            "    \"memorysetup-job-temp-allocator-block-size=2097152\"\n",
            "    \"memorysetup-job-temp-allocator-block-size-background=1048576\"\n",
            "    \"memorysetup-job-temp-allocator-reduction-small-platforms=262144\"\n",
            "    \"memorysetup-allocator-temp-initial-block-size-main=262144\"\n",
            "    \"memorysetup-allocator-temp-initial-block-size-worker=262144\"\n",
            "    \"memorysetup-temp-allocator-size-background-worker=32768\"\n",
            "    \"memorysetup-temp-allocator-size-job-worker=262144\"\n",
            "    \"memorysetup-temp-allocator-size-preload-manager=262144\"\n",
            "    \"memorysetup-temp-allocator-size-nav-mesh-worker=65536\"\n",
            "    \"memorysetup-temp-allocator-size-audio-worker=65536\"\n",
            "    \"memorysetup-temp-allocator-size-cloud-worker=32768\"\n",
            "    \"memorysetup-temp-allocator-size-gfx=262144\"\n"
          ]
        },
        {
          "data": {
            "text/plain": [
              "{'PuzzleBehavior?team=0?agent_id=0': {'observation': [array([0.        , 1.        , 0.        , 0.        , 0.        ,\n",
              "          0.        , 0.        , 0.3172425 , 0.        , 1.        ,\n",
              "          0.        , 0.        , 0.        , 0.        , 0.        ,\n",
              "          0.40984488, 0.        , 1.        , 0.        , 0.        ,\n",
              "          0.        , 0.        , 0.        , 0.5390889 , 0.        ,\n",
              "          1.        , 0.        , 0.        , 0.        , 0.        ,\n",
              "          0.        , 0.4949999 , 0.        , 0.        , 0.        ,\n",
              "          0.        , 0.        , 0.        , 0.        , 0.56647944,\n",
              "          0.        , 1.        , 0.        , 0.        , 0.        ,\n",
              "          0.        , 0.        , 0.7213204 , 0.        , 0.        ,\n",
              "          0.        , 1.        , 0.        , 0.        , 0.        ,\n",
              "          0.2442288 ], dtype=float32),\n",
              "   array([0.], dtype=float32),\n",
              "   array([0., 0.], dtype=float32)],\n",
              "  'action_mask': [array([False, False, False, False, False, False, False])]},\n",
              " 'PuzzleBehavior?team=0?agent_id=1': {'observation': [array([0.        , 0.        , 0.        , 1.        , 0.        ,\n",
              "          0.        , 0.        , 0.23358707, 0.        , 1.        ,\n",
              "          0.        , 0.        , 0.        , 0.        , 0.        ,\n",
              "          0.7213202 , 0.        , 0.        , 0.        , 0.        ,\n",
              "          0.        , 0.        , 0.        , 0.5664795 , 0.        ,\n",
              "          1.        , 0.        , 0.        , 0.        , 0.        ,\n",
              "          0.        , 0.4949999 , 0.        , 1.        , 0.        ,\n",
              "          0.        , 0.        , 0.        , 0.        , 0.5390886 ,\n",
              "          0.        , 1.        , 0.        , 0.        , 0.        ,\n",
              "          0.        , 0.        , 0.39098138, 0.        , 1.        ,\n",
              "          0.        , 0.        , 0.        , 0.        , 0.        ,\n",
              "          0.30264112], dtype=float32),\n",
              "   array([0.], dtype=float32),\n",
              "   array([0., 0.], dtype=float32)],\n",
              "  'action_mask': [array([False, False, False, False, False, False, False])]}}"
            ]
          },
          "execution_count": 15,
          "metadata": {},
          "output_type": "execute_result"
        }
      ],
      "source": [
        "import numpy as np\n",
        "from mlagents_envs.environment import UnityEnvironment\n",
        "from mlagents_envs.envs.unity_parallel_env import UnityParallelEnv\n",
        "from mlagents_envs.side_channel.engine_configuration_channel import EngineConfigurationChannel\n",
        "from mlagents_envs.envs.unity_pettingzoo_base_env import UnityPettingzooBaseEnv\n",
        "\n",
        "channel = EngineConfigurationChannel()\n",
        "unity_env = UnityEnvironment(file_name=\"../build/puzzle.x86_64\", side_channels=[])\n",
        "channel.set_configuration_parameters(time_scale=20.0)\n",
        "env = UnityParallelEnv(unity_env)\n",
        "env.reset()"
      ]
    },
    {
      "cell_type": "markdown",
      "metadata": {
        "id": "eeGb0c9DS4SB"
      },
      "source": [
        "### Stepping the environment\n",
        "\n",
        "Example of interacting with the environment in basic RL loop. It follows the same interface as described in [PettingZoo API page](https://www.pettingzoo.ml/api)."
      ]
    },
    {
      "cell_type": "markdown",
      "metadata": {
        "id": "ZZsa-2X_S4SD"
      },
      "source": [
        "### Additional Environment API\n",
        "\n",
        "All the API described in the `Additional Environment API` section in the [PettingZoo API page](https://www.pettingzoo.ml/api) are all supported. A few examples are shown below."
      ]
    },
    {
      "cell_type": "code",
      "execution_count": 6,
      "metadata": {
        "id": "8iLEok1vS4SD",
        "tags": []
      },
      "outputs": [
        {
          "name": "stdout",
          "output_type": "stream",
          "text": [
            "Agent names: ['PuzzleBehavior?team=0?agent_id=0', 'PuzzleBehavior?team=0?agent_id=1']\n"
          ]
        }
      ],
      "source": [
        "# `agents`: a list of the names of all current agents\n",
        "print(\"Agent names:\", env.agents)"
      ]
    },
    {
      "cell_type": "code",
      "execution_count": 12,
      "metadata": {
        "id": "glE2fqzoS4SE"
      },
      "outputs": [
        {
          "name": "stdout",
          "output_type": "stream",
          "text": [
            "Observation space of current agent: Tuple(Box(-inf, inf, (56,), float32), Box(-inf, inf, (1,), float32), Box(-inf, inf, (2,), float32))\n"
          ]
        }
      ],
      "source": [
        "# `observation_spaces`: a dict of the observation spaces of every agent, keyed by name.\n",
        "print(\"Observation space of current agent:\", env.observation_spaces[env.agents[0]])"
      ]
    },
    {
      "cell_type": "code",
      "execution_count": 13,
      "metadata": {
        "id": "RMmJ3v2SS4SE"
      },
      "outputs": [
        {
          "name": "stdout",
          "output_type": "stream",
          "text": [
            "Action space of current agent: Discrete(7)\n"
          ]
        }
      ],
      "source": [
        "# `action_spaces`: a dict of the observation spaces of every agent, keyed by name.\n",
        "print(\"Action space of current agent:\", env.action_spaces[env.agents[1]])"
      ]
    },
    {
      "cell_type": "markdown",
      "metadata": {
        "id": "8A_cbMEzS4SF"
      },
      "source": [
        "### Close the Environment to free the port it is using"
      ]
    },
    {
      "cell_type": "code",
      "execution_count": 14,
      "metadata": {
        "id": "a7KatdThq7OV"
      },
      "outputs": [],
      "source": [
        "env.close()"
      ]
    },
    {
      "cell_type": "markdown",
      "metadata": {},
      "source": [
        "### Notes"
      ]
    },
    {
      "cell_type": "markdown",
      "metadata": {},
      "source": [
        "- The environments will automatically reset when it's done, so env.agent_iter(max_step) will keep going on until the specified max step is reached (default: 2**63). There is no need to call env.reset() except for the very beginning of instantiating an environment.\n",
        "\n",
        "- Docs: https://unity-technologies.github.io/ml-agents/Python-PettingZoo-API-Documentation/#mlagents_envs.envs.unity_parallel_env"
      ]
    },
    {
      "cell_type": "markdown",
      "metadata": {},
      "source": []
    }
  ],
  "metadata": {
    "colab": {
      "name": "Colab-UnityEnvironment-1-Run.ipynb",
      "private_outputs": true,
      "provenance": [],
      "toc_visible": true
    },
    "kernelspec": {
      "display_name": "mlagents",
      "language": "python",
      "name": "python3"
    },
    "language_info": {
      "codemirror_mode": {
        "name": "ipython",
        "version": 3
      },
      "file_extension": ".py",
      "mimetype": "text/x-python",
      "name": "python",
      "nbconvert_exporter": "python",
      "pygments_lexer": "ipython3",
      "version": "3.10.12"
    }
  },
  "nbformat": 4,
  "nbformat_minor": 0
}
